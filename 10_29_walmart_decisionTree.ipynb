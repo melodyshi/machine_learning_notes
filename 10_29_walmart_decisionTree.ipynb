{
 "cells": [
  {
   "cell_type": "code",
   "execution_count": 27,
   "metadata": {},
   "outputs": [],
   "source": [
    "import pandas as pd\n",
    "from sklearn.metrics import accuracy_score\n",
    "from sklearn.model_selection import train_test_split\n",
    "from sklearn.tree import DecisionTreeClassifier"
   ]
  },
  {
   "cell_type": "code",
   "execution_count": 17,
   "metadata": {},
   "outputs": [],
   "source": [
    "train = pd.read_csv('train.csv',error_bad_lines=False)\n",
    "test = pd.read_csv('test.csv',error_bad_lines=False)"
   ]
  },
  {
   "cell_type": "code",
   "execution_count": 18,
   "metadata": {},
   "outputs": [
    {
     "data": {
      "text/html": [
       "<div>\n",
       "<style>\n",
       "    .dataframe thead tr:only-child th {\n",
       "        text-align: right;\n",
       "    }\n",
       "\n",
       "    .dataframe thead th {\n",
       "        text-align: left;\n",
       "    }\n",
       "\n",
       "    .dataframe tbody tr th {\n",
       "        vertical-align: top;\n",
       "    }\n",
       "</style>\n",
       "<table border=\"1\" class=\"dataframe\">\n",
       "  <thead>\n",
       "    <tr style=\"text-align: right;\">\n",
       "      <th></th>\n",
       "      <th>TripType</th>\n",
       "      <th>VisitNumber</th>\n",
       "      <th>Weekday</th>\n",
       "      <th>Upc</th>\n",
       "      <th>ScanCount</th>\n",
       "      <th>DepartmentDescription</th>\n",
       "      <th>FinelineNumber</th>\n",
       "    </tr>\n",
       "  </thead>\n",
       "  <tbody>\n",
       "    <tr>\n",
       "      <th>0</th>\n",
       "      <td>999</td>\n",
       "      <td>5</td>\n",
       "      <td>Friday</td>\n",
       "      <td>6.811315e+10</td>\n",
       "      <td>-1</td>\n",
       "      <td>FINANCIAL SERVICES</td>\n",
       "      <td>1000.0</td>\n",
       "    </tr>\n",
       "    <tr>\n",
       "      <th>1</th>\n",
       "      <td>30</td>\n",
       "      <td>7</td>\n",
       "      <td>Friday</td>\n",
       "      <td>6.053882e+10</td>\n",
       "      <td>1</td>\n",
       "      <td>SHOES</td>\n",
       "      <td>8931.0</td>\n",
       "    </tr>\n",
       "    <tr>\n",
       "      <th>2</th>\n",
       "      <td>30</td>\n",
       "      <td>7</td>\n",
       "      <td>Friday</td>\n",
       "      <td>7.410811e+09</td>\n",
       "      <td>1</td>\n",
       "      <td>PERSONAL CARE</td>\n",
       "      <td>4504.0</td>\n",
       "    </tr>\n",
       "    <tr>\n",
       "      <th>3</th>\n",
       "      <td>26</td>\n",
       "      <td>8</td>\n",
       "      <td>Friday</td>\n",
       "      <td>2.238404e+09</td>\n",
       "      <td>2</td>\n",
       "      <td>PAINT AND ACCESSORIES</td>\n",
       "      <td>3565.0</td>\n",
       "    </tr>\n",
       "    <tr>\n",
       "      <th>4</th>\n",
       "      <td>26</td>\n",
       "      <td>8</td>\n",
       "      <td>Friday</td>\n",
       "      <td>2.006614e+09</td>\n",
       "      <td>2</td>\n",
       "      <td>PAINT AND ACCESSORIES</td>\n",
       "      <td>1017.0</td>\n",
       "    </tr>\n",
       "  </tbody>\n",
       "</table>\n",
       "</div>"
      ],
      "text/plain": [
       "   TripType  VisitNumber Weekday           Upc  ScanCount  \\\n",
       "0       999            5  Friday  6.811315e+10         -1   \n",
       "1        30            7  Friday  6.053882e+10          1   \n",
       "2        30            7  Friday  7.410811e+09          1   \n",
       "3        26            8  Friday  2.238404e+09          2   \n",
       "4        26            8  Friday  2.006614e+09          2   \n",
       "\n",
       "   DepartmentDescription  FinelineNumber  \n",
       "0     FINANCIAL SERVICES          1000.0  \n",
       "1                  SHOES          8931.0  \n",
       "2          PERSONAL CARE          4504.0  \n",
       "3  PAINT AND ACCESSORIES          3565.0  \n",
       "4  PAINT AND ACCESSORIES          1017.0  "
      ]
     },
     "execution_count": 18,
     "metadata": {},
     "output_type": "execute_result"
    }
   ],
   "source": [
    "train.head()"
   ]
  },
  {
   "cell_type": "code",
   "execution_count": 19,
   "metadata": {},
   "outputs": [
    {
     "data": {
      "text/plain": [
       "(647054, 7)"
      ]
     },
     "execution_count": 19,
     "metadata": {},
     "output_type": "execute_result"
    }
   ],
   "source": [
    "train.shape"
   ]
  },
  {
   "cell_type": "code",
   "execution_count": 41,
   "metadata": {},
   "outputs": [
    {
     "data": {
      "text/html": [
       "<div>\n",
       "<style>\n",
       "    .dataframe thead tr:only-child th {\n",
       "        text-align: right;\n",
       "    }\n",
       "\n",
       "    .dataframe thead th {\n",
       "        text-align: left;\n",
       "    }\n",
       "\n",
       "    .dataframe tbody tr th {\n",
       "        vertical-align: top;\n",
       "    }\n",
       "</style>\n",
       "<table border=\"1\" class=\"dataframe\">\n",
       "  <thead>\n",
       "    <tr style=\"text-align: right;\">\n",
       "      <th></th>\n",
       "      <th>VisitNumber</th>\n",
       "      <th>Weekday</th>\n",
       "      <th>Upc</th>\n",
       "      <th>ScanCount</th>\n",
       "      <th>DepartmentDescription</th>\n",
       "      <th>FinelineNumber</th>\n",
       "    </tr>\n",
       "  </thead>\n",
       "  <tbody>\n",
       "    <tr>\n",
       "      <th>0</th>\n",
       "      <td>1</td>\n",
       "      <td>Friday</td>\n",
       "      <td>7.250339e+10</td>\n",
       "      <td>1</td>\n",
       "      <td>SHOES</td>\n",
       "      <td>3002.0</td>\n",
       "    </tr>\n",
       "    <tr>\n",
       "      <th>1</th>\n",
       "      <td>1</td>\n",
       "      <td>Friday</td>\n",
       "      <td>1.707711e+09</td>\n",
       "      <td>1</td>\n",
       "      <td>DAIRY</td>\n",
       "      <td>1526.0</td>\n",
       "    </tr>\n",
       "    <tr>\n",
       "      <th>2</th>\n",
       "      <td>1</td>\n",
       "      <td>Friday</td>\n",
       "      <td>8.947000e+10</td>\n",
       "      <td>1</td>\n",
       "      <td>DAIRY</td>\n",
       "      <td>1431.0</td>\n",
       "    </tr>\n",
       "    <tr>\n",
       "      <th>3</th>\n",
       "      <td>1</td>\n",
       "      <td>Friday</td>\n",
       "      <td>8.849121e+10</td>\n",
       "      <td>1</td>\n",
       "      <td>GROCERY DRY GOODS</td>\n",
       "      <td>3555.0</td>\n",
       "    </tr>\n",
       "    <tr>\n",
       "      <th>4</th>\n",
       "      <td>2</td>\n",
       "      <td>Friday</td>\n",
       "      <td>2.840015e+09</td>\n",
       "      <td>1</td>\n",
       "      <td>DSD GROCERY</td>\n",
       "      <td>4408.0</td>\n",
       "    </tr>\n",
       "  </tbody>\n",
       "</table>\n",
       "</div>"
      ],
      "text/plain": [
       "   VisitNumber Weekday           Upc  ScanCount DepartmentDescription  \\\n",
       "0            1  Friday  7.250339e+10          1                 SHOES   \n",
       "1            1  Friday  1.707711e+09          1                 DAIRY   \n",
       "2            1  Friday  8.947000e+10          1                 DAIRY   \n",
       "3            1  Friday  8.849121e+10          1     GROCERY DRY GOODS   \n",
       "4            2  Friday  2.840015e+09          1           DSD GROCERY   \n",
       "\n",
       "   FinelineNumber  \n",
       "0          3002.0  \n",
       "1          1526.0  \n",
       "2          1431.0  \n",
       "3          3555.0  \n",
       "4          4408.0  "
      ]
     },
     "execution_count": 41,
     "metadata": {},
     "output_type": "execute_result"
    }
   ],
   "source": [
    "test.head()"
   ]
  },
  {
   "cell_type": "code",
   "execution_count": 21,
   "metadata": {},
   "outputs": [
    {
     "data": {
      "text/plain": [
       "(653646, 6)"
      ]
     },
     "execution_count": 21,
     "metadata": {},
     "output_type": "execute_result"
    }
   ],
   "source": [
    "test.shape"
   ]
  },
  {
   "cell_type": "code",
   "execution_count": 10,
   "metadata": {},
   "outputs": [
    {
     "data": {
      "text/plain": [
       "ID                               False\n",
       "var3                             False\n",
       "var15                            False\n",
       "imp_ent_var16_ult1               False\n",
       "imp_op_var39_comer_ult1          False\n",
       "imp_op_var39_comer_ult3          False\n",
       "imp_op_var40_comer_ult1          False\n",
       "imp_op_var40_comer_ult3          False\n",
       "imp_op_var40_efect_ult1          False\n",
       "imp_op_var40_efect_ult3          False\n",
       "imp_op_var40_ult1                False\n",
       "imp_op_var41_comer_ult1          False\n",
       "imp_op_var41_comer_ult3          False\n",
       "imp_op_var41_efect_ult1          False\n",
       "imp_op_var41_efect_ult3          False\n",
       "imp_op_var41_ult1                False\n",
       "imp_op_var39_efect_ult1          False\n",
       "imp_op_var39_efect_ult3          False\n",
       "imp_op_var39_ult1                False\n",
       "imp_sal_var16_ult1               False\n",
       "ind_var1_0                        True\n",
       "ind_var1                         False\n",
       "ind_var2_0                       False\n",
       "ind_var2                         False\n",
       "ind_var5_0                       False\n",
       "ind_var5                         False\n",
       "ind_var6_0                       False\n",
       "ind_var6                         False\n",
       "ind_var8_0                       False\n",
       "ind_var8                         False\n",
       "                                 ...  \n",
       "saldo_medio_var13_corto_hace2     True\n",
       "saldo_medio_var13_corto_hace3     True\n",
       "saldo_medio_var13_corto_ult1      True\n",
       "saldo_medio_var13_corto_ult3      True\n",
       "saldo_medio_var13_largo_hace2     True\n",
       "saldo_medio_var13_largo_hace3     True\n",
       "saldo_medio_var13_largo_ult1      True\n",
       "saldo_medio_var13_largo_ult3      True\n",
       "saldo_medio_var13_medio_hace2     True\n",
       "saldo_medio_var13_medio_hace3     True\n",
       "saldo_medio_var13_medio_ult1      True\n",
       "saldo_medio_var13_medio_ult3      True\n",
       "saldo_medio_var17_hace2           True\n",
       "saldo_medio_var17_hace3           True\n",
       "saldo_medio_var17_ult1            True\n",
       "saldo_medio_var17_ult3            True\n",
       "saldo_medio_var29_hace2           True\n",
       "saldo_medio_var29_hace3           True\n",
       "saldo_medio_var29_ult1            True\n",
       "saldo_medio_var29_ult3            True\n",
       "saldo_medio_var33_hace2           True\n",
       "saldo_medio_var33_hace3           True\n",
       "saldo_medio_var33_ult1            True\n",
       "saldo_medio_var33_ult3            True\n",
       "saldo_medio_var44_hace2           True\n",
       "saldo_medio_var44_hace3           True\n",
       "saldo_medio_var44_ult1            True\n",
       "saldo_medio_var44_ult3            True\n",
       "var38                             True\n",
       "TARGET                            True\n",
       "Length: 371, dtype: bool"
      ]
     },
     "execution_count": 10,
     "metadata": {},
     "output_type": "execute_result"
    }
   ],
   "source": [
    "train.isnull().any()"
   ]
  },
  {
   "cell_type": "code",
   "execution_count": 22,
   "metadata": {},
   "outputs": [],
   "source": [
    "train = train.dropna()"
   ]
  },
  {
   "cell_type": "code",
   "execution_count": 23,
   "metadata": {},
   "outputs": [
    {
     "data": {
      "text/plain": [
       "(642925, 7)"
      ]
     },
     "execution_count": 23,
     "metadata": {},
     "output_type": "execute_result"
    }
   ],
   "source": [
    "train.shape"
   ]
  },
  {
   "cell_type": "code",
   "execution_count": 40,
   "metadata": {},
   "outputs": [
    {
     "data": {
      "text/html": [
       "<div>\n",
       "<style>\n",
       "    .dataframe thead tr:only-child th {\n",
       "        text-align: right;\n",
       "    }\n",
       "\n",
       "    .dataframe thead th {\n",
       "        text-align: left;\n",
       "    }\n",
       "\n",
       "    .dataframe tbody tr th {\n",
       "        vertical-align: top;\n",
       "    }\n",
       "</style>\n",
       "<table border=\"1\" class=\"dataframe\">\n",
       "  <thead>\n",
       "    <tr style=\"text-align: right;\">\n",
       "      <th></th>\n",
       "      <th>VisitNumber</th>\n",
       "      <th>Weekday</th>\n",
       "      <th>Upc</th>\n",
       "      <th>ScanCount</th>\n",
       "      <th>DepartmentDescription</th>\n",
       "      <th>FinelineNumber</th>\n",
       "    </tr>\n",
       "  </thead>\n",
       "  <tbody>\n",
       "    <tr>\n",
       "      <th>0</th>\n",
       "      <td>1</td>\n",
       "      <td>Friday</td>\n",
       "      <td>7.250339e+10</td>\n",
       "      <td>1</td>\n",
       "      <td>SHOES</td>\n",
       "      <td>3002.0</td>\n",
       "    </tr>\n",
       "    <tr>\n",
       "      <th>1</th>\n",
       "      <td>1</td>\n",
       "      <td>Friday</td>\n",
       "      <td>1.707711e+09</td>\n",
       "      <td>1</td>\n",
       "      <td>DAIRY</td>\n",
       "      <td>1526.0</td>\n",
       "    </tr>\n",
       "    <tr>\n",
       "      <th>2</th>\n",
       "      <td>1</td>\n",
       "      <td>Friday</td>\n",
       "      <td>8.947000e+10</td>\n",
       "      <td>1</td>\n",
       "      <td>DAIRY</td>\n",
       "      <td>1431.0</td>\n",
       "    </tr>\n",
       "    <tr>\n",
       "      <th>3</th>\n",
       "      <td>1</td>\n",
       "      <td>Friday</td>\n",
       "      <td>8.849121e+10</td>\n",
       "      <td>1</td>\n",
       "      <td>GROCERY DRY GOODS</td>\n",
       "      <td>3555.0</td>\n",
       "    </tr>\n",
       "    <tr>\n",
       "      <th>4</th>\n",
       "      <td>2</td>\n",
       "      <td>Friday</td>\n",
       "      <td>2.840015e+09</td>\n",
       "      <td>1</td>\n",
       "      <td>DSD GROCERY</td>\n",
       "      <td>4408.0</td>\n",
       "    </tr>\n",
       "  </tbody>\n",
       "</table>\n",
       "</div>"
      ],
      "text/plain": [
       "   VisitNumber Weekday           Upc  ScanCount DepartmentDescription  \\\n",
       "0            1  Friday  7.250339e+10          1                 SHOES   \n",
       "1            1  Friday  1.707711e+09          1                 DAIRY   \n",
       "2            1  Friday  8.947000e+10          1                 DAIRY   \n",
       "3            1  Friday  8.849121e+10          1     GROCERY DRY GOODS   \n",
       "4            2  Friday  2.840015e+09          1           DSD GROCERY   \n",
       "\n",
       "   FinelineNumber  \n",
       "0          3002.0  \n",
       "1          1526.0  \n",
       "2          1431.0  \n",
       "3          3555.0  \n",
       "4          4408.0  "
      ]
     },
     "execution_count": 40,
     "metadata": {},
     "output_type": "execute_result"
    }
   ],
   "source": [
    "test.head()"
   ]
  },
  {
   "cell_type": "code",
   "execution_count": 25,
   "metadata": {},
   "outputs": [
    {
     "data": {
      "text/plain": [
       "(649660, 6)"
      ]
     },
     "execution_count": 25,
     "metadata": {},
     "output_type": "execute_result"
    }
   ],
   "source": [
    "test.shape"
   ]
  },
  {
   "cell_type": "code",
   "execution_count": 26,
   "metadata": {},
   "outputs": [
    {
     "data": {
      "text/html": [
       "<div>\n",
       "<style>\n",
       "    .dataframe thead tr:only-child th {\n",
       "        text-align: right;\n",
       "    }\n",
       "\n",
       "    .dataframe thead th {\n",
       "        text-align: left;\n",
       "    }\n",
       "\n",
       "    .dataframe tbody tr th {\n",
       "        vertical-align: top;\n",
       "    }\n",
       "</style>\n",
       "<table border=\"1\" class=\"dataframe\">\n",
       "  <thead>\n",
       "    <tr style=\"text-align: right;\">\n",
       "      <th></th>\n",
       "      <th>TripType</th>\n",
       "      <th>VisitNumber</th>\n",
       "      <th>Upc</th>\n",
       "      <th>ScanCount</th>\n",
       "      <th>FinelineNumber</th>\n",
       "    </tr>\n",
       "  </thead>\n",
       "  <tbody>\n",
       "    <tr>\n",
       "      <th>count</th>\n",
       "      <td>642925.000000</td>\n",
       "      <td>642925.000000</td>\n",
       "      <td>6.429250e+05</td>\n",
       "      <td>642925.000000</td>\n",
       "      <td>642925.000000</td>\n",
       "    </tr>\n",
       "    <tr>\n",
       "      <th>mean</th>\n",
       "      <td>58.337228</td>\n",
       "      <td>96199.870353</td>\n",
       "      <td>3.060698e+10</td>\n",
       "      <td>1.110203</td>\n",
       "      <td>3726.884567</td>\n",
       "    </tr>\n",
       "    <tr>\n",
       "      <th>std</th>\n",
       "      <td>156.559892</td>\n",
       "      <td>55552.836758</td>\n",
       "      <td>9.120134e+10</td>\n",
       "      <td>0.701240</td>\n",
       "      <td>2780.966158</td>\n",
       "    </tr>\n",
       "    <tr>\n",
       "      <th>min</th>\n",
       "      <td>3.000000</td>\n",
       "      <td>5.000000</td>\n",
       "      <td>8.340000e+02</td>\n",
       "      <td>-12.000000</td>\n",
       "      <td>0.000000</td>\n",
       "    </tr>\n",
       "    <tr>\n",
       "      <th>25%</th>\n",
       "      <td>27.000000</td>\n",
       "      <td>49300.000000</td>\n",
       "      <td>3.400001e+09</td>\n",
       "      <td>1.000000</td>\n",
       "      <td>1404.000000</td>\n",
       "    </tr>\n",
       "    <tr>\n",
       "      <th>50%</th>\n",
       "      <td>39.000000</td>\n",
       "      <td>97116.000000</td>\n",
       "      <td>7.050103e+09</td>\n",
       "      <td>1.000000</td>\n",
       "      <td>3352.000000</td>\n",
       "    </tr>\n",
       "    <tr>\n",
       "      <th>75%</th>\n",
       "      <td>40.000000</td>\n",
       "      <td>144353.000000</td>\n",
       "      <td>3.006531e+10</td>\n",
       "      <td>1.000000</td>\n",
       "      <td>5501.000000</td>\n",
       "    </tr>\n",
       "    <tr>\n",
       "      <th>max</th>\n",
       "      <td>999.000000</td>\n",
       "      <td>191347.000000</td>\n",
       "      <td>9.789707e+11</td>\n",
       "      <td>71.000000</td>\n",
       "      <td>9998.000000</td>\n",
       "    </tr>\n",
       "  </tbody>\n",
       "</table>\n",
       "</div>"
      ],
      "text/plain": [
       "            TripType    VisitNumber           Upc      ScanCount  \\\n",
       "count  642925.000000  642925.000000  6.429250e+05  642925.000000   \n",
       "mean       58.337228   96199.870353  3.060698e+10       1.110203   \n",
       "std       156.559892   55552.836758  9.120134e+10       0.701240   \n",
       "min         3.000000       5.000000  8.340000e+02     -12.000000   \n",
       "25%        27.000000   49300.000000  3.400001e+09       1.000000   \n",
       "50%        39.000000   97116.000000  7.050103e+09       1.000000   \n",
       "75%        40.000000  144353.000000  3.006531e+10       1.000000   \n",
       "max       999.000000  191347.000000  9.789707e+11      71.000000   \n",
       "\n",
       "       FinelineNumber  \n",
       "count   642925.000000  \n",
       "mean      3726.884567  \n",
       "std       2780.966158  \n",
       "min          0.000000  \n",
       "25%       1404.000000  \n",
       "50%       3352.000000  \n",
       "75%       5501.000000  \n",
       "max       9998.000000  "
      ]
     },
     "execution_count": 26,
     "metadata": {},
     "output_type": "execute_result"
    }
   ],
   "source": [
    "train.describe()"
   ]
  },
  {
   "cell_type": "code",
   "execution_count": 28,
   "metadata": {},
   "outputs": [
    {
     "data": {
      "text/html": [
       "<div>\n",
       "<style>\n",
       "    .dataframe thead tr:only-child th {\n",
       "        text-align: right;\n",
       "    }\n",
       "\n",
       "    .dataframe thead th {\n",
       "        text-align: left;\n",
       "    }\n",
       "\n",
       "    .dataframe tbody tr th {\n",
       "        vertical-align: top;\n",
       "    }\n",
       "</style>\n",
       "<table border=\"1\" class=\"dataframe\">\n",
       "  <thead>\n",
       "    <tr style=\"text-align: right;\">\n",
       "      <th></th>\n",
       "      <th>VisitNumber</th>\n",
       "      <th>Upc</th>\n",
       "      <th>ScanCount</th>\n",
       "      <th>FinelineNumber</th>\n",
       "    </tr>\n",
       "  </thead>\n",
       "  <tbody>\n",
       "    <tr>\n",
       "      <th>count</th>\n",
       "      <td>649660.000000</td>\n",
       "      <td>6.496600e+05</td>\n",
       "      <td>649660.000000</td>\n",
       "      <td>649660.000000</td>\n",
       "    </tr>\n",
       "    <tr>\n",
       "      <th>mean</th>\n",
       "      <td>97063.667517</td>\n",
       "      <td>3.054325e+10</td>\n",
       "      <td>1.110102</td>\n",
       "      <td>3725.241185</td>\n",
       "    </tr>\n",
       "    <tr>\n",
       "      <th>std</th>\n",
       "      <td>55579.560540</td>\n",
       "      <td>9.125453e+10</td>\n",
       "      <td>0.713219</td>\n",
       "      <td>2776.625808</td>\n",
       "    </tr>\n",
       "    <tr>\n",
       "      <th>min</th>\n",
       "      <td>1.000000</td>\n",
       "      <td>8.340000e+02</td>\n",
       "      <td>-21.000000</td>\n",
       "      <td>0.000000</td>\n",
       "    </tr>\n",
       "    <tr>\n",
       "      <th>25%</th>\n",
       "      <td>49702.750000</td>\n",
       "      <td>3.400001e+09</td>\n",
       "      <td>1.000000</td>\n",
       "      <td>1404.000000</td>\n",
       "    </tr>\n",
       "    <tr>\n",
       "      <th>50%</th>\n",
       "      <td>98261.000000</td>\n",
       "      <td>7.047049e+09</td>\n",
       "      <td>1.000000</td>\n",
       "      <td>3353.000000</td>\n",
       "    </tr>\n",
       "    <tr>\n",
       "      <th>75%</th>\n",
       "      <td>145305.250000</td>\n",
       "      <td>3.004167e+10</td>\n",
       "      <td>1.000000</td>\n",
       "      <td>5501.000000</td>\n",
       "    </tr>\n",
       "    <tr>\n",
       "      <th>max</th>\n",
       "      <td>191348.000000</td>\n",
       "      <td>9.789707e+11</td>\n",
       "      <td>55.000000</td>\n",
       "      <td>9999.000000</td>\n",
       "    </tr>\n",
       "  </tbody>\n",
       "</table>\n",
       "</div>"
      ],
      "text/plain": [
       "         VisitNumber           Upc      ScanCount  FinelineNumber\n",
       "count  649660.000000  6.496600e+05  649660.000000   649660.000000\n",
       "mean    97063.667517  3.054325e+10       1.110102     3725.241185\n",
       "std     55579.560540  9.125453e+10       0.713219     2776.625808\n",
       "min         1.000000  8.340000e+02     -21.000000        0.000000\n",
       "25%     49702.750000  3.400001e+09       1.000000     1404.000000\n",
       "50%     98261.000000  7.047049e+09       1.000000     3353.000000\n",
       "75%    145305.250000  3.004167e+10       1.000000     5501.000000\n",
       "max    191348.000000  9.789707e+11      55.000000     9999.000000"
      ]
     },
     "execution_count": 28,
     "metadata": {},
     "output_type": "execute_result"
    }
   ],
   "source": [
    "test.describe()"
   ]
  },
  {
   "cell_type": "code",
   "execution_count": 43,
   "metadata": {},
   "outputs": [],
   "source": [
    "X = train[['VisitNumber','Upc','ScanCount','FinelineNumber']].copy()\n",
    "y = train['TripType'].copy()"
   ]
  },
  {
   "cell_type": "code",
   "execution_count": 44,
   "metadata": {},
   "outputs": [],
   "source": [
    "X_train,X_test,y_train,y_test=train_test_split(X,y,test_size=0.33,random_state = 324)"
   ]
  },
  {
   "cell_type": "code",
   "execution_count": 62,
   "metadata": {},
   "outputs": [],
   "source": [
    "triptype_classifier = DecisionTreeClassifier(max_leaf_nodes=100, random_state=0)"
   ]
  },
  {
   "cell_type": "code",
   "execution_count": 46,
   "metadata": {},
   "outputs": [
    {
     "data": {
      "text/html": [
       "<div>\n",
       "<style>\n",
       "    .dataframe thead tr:only-child th {\n",
       "        text-align: right;\n",
       "    }\n",
       "\n",
       "    .dataframe thead th {\n",
       "        text-align: left;\n",
       "    }\n",
       "\n",
       "    .dataframe tbody tr th {\n",
       "        vertical-align: top;\n",
       "    }\n",
       "</style>\n",
       "<table border=\"1\" class=\"dataframe\">\n",
       "  <thead>\n",
       "    <tr style=\"text-align: right;\">\n",
       "      <th></th>\n",
       "      <th>VisitNumber</th>\n",
       "      <th>Upc</th>\n",
       "      <th>ScanCount</th>\n",
       "      <th>FinelineNumber</th>\n",
       "    </tr>\n",
       "  </thead>\n",
       "  <tbody>\n",
       "    <tr>\n",
       "      <th>176103</th>\n",
       "      <td>53070</td>\n",
       "      <td>4.009414e+09</td>\n",
       "      <td>1</td>\n",
       "      <td>3006.0</td>\n",
       "    </tr>\n",
       "    <tr>\n",
       "      <th>427024</th>\n",
       "      <td>127101</td>\n",
       "      <td>3.746608e+09</td>\n",
       "      <td>1</td>\n",
       "      <td>84.0</td>\n",
       "    </tr>\n",
       "    <tr>\n",
       "      <th>337126</th>\n",
       "      <td>100631</td>\n",
       "      <td>5.114197e+09</td>\n",
       "      <td>1</td>\n",
       "      <td>4103.0</td>\n",
       "    </tr>\n",
       "    <tr>\n",
       "      <th>172443</th>\n",
       "      <td>52017</td>\n",
       "      <td>2.200001e+09</td>\n",
       "      <td>1</td>\n",
       "      <td>135.0</td>\n",
       "    </tr>\n",
       "    <tr>\n",
       "      <th>623693</th>\n",
       "      <td>185640</td>\n",
       "      <td>6.785230e+10</td>\n",
       "      <td>1</td>\n",
       "      <td>2510.0</td>\n",
       "    </tr>\n",
       "  </tbody>\n",
       "</table>\n",
       "</div>"
      ],
      "text/plain": [
       "        VisitNumber           Upc  ScanCount  FinelineNumber\n",
       "176103        53070  4.009414e+09          1          3006.0\n",
       "427024       127101  3.746608e+09          1            84.0\n",
       "337126       100631  5.114197e+09          1          4103.0\n",
       "172443        52017  2.200001e+09          1           135.0\n",
       "623693       185640  6.785230e+10          1          2510.0"
      ]
     },
     "execution_count": 46,
     "metadata": {},
     "output_type": "execute_result"
    }
   ],
   "source": [
    "X_train.head()"
   ]
  },
  {
   "cell_type": "code",
   "execution_count": 47,
   "metadata": {},
   "outputs": [
    {
     "data": {
      "text/plain": [
       "(430759, 4)"
      ]
     },
     "execution_count": 47,
     "metadata": {},
     "output_type": "execute_result"
    }
   ],
   "source": [
    "X_train.shape"
   ]
  },
  {
   "cell_type": "code",
   "execution_count": 48,
   "metadata": {},
   "outputs": [
    {
     "data": {
      "text/html": [
       "<div>\n",
       "<style>\n",
       "    .dataframe thead tr:only-child th {\n",
       "        text-align: right;\n",
       "    }\n",
       "\n",
       "    .dataframe thead th {\n",
       "        text-align: left;\n",
       "    }\n",
       "\n",
       "    .dataframe tbody tr th {\n",
       "        vertical-align: top;\n",
       "    }\n",
       "</style>\n",
       "<table border=\"1\" class=\"dataframe\">\n",
       "  <thead>\n",
       "    <tr style=\"text-align: right;\">\n",
       "      <th></th>\n",
       "      <th>VisitNumber</th>\n",
       "      <th>Upc</th>\n",
       "      <th>ScanCount</th>\n",
       "      <th>FinelineNumber</th>\n",
       "    </tr>\n",
       "  </thead>\n",
       "  <tbody>\n",
       "    <tr>\n",
       "      <th>623372</th>\n",
       "      <td>185569</td>\n",
       "      <td>7.874204e+09</td>\n",
       "      <td>2</td>\n",
       "      <td>9220.0</td>\n",
       "    </tr>\n",
       "    <tr>\n",
       "      <th>524374</th>\n",
       "      <td>154979</td>\n",
       "      <td>6.053886e+10</td>\n",
       "      <td>1</td>\n",
       "      <td>0.0</td>\n",
       "    </tr>\n",
       "    <tr>\n",
       "      <th>11996</th>\n",
       "      <td>4049</td>\n",
       "      <td>3.700086e+09</td>\n",
       "      <td>1</td>\n",
       "      <td>3041.0</td>\n",
       "    </tr>\n",
       "    <tr>\n",
       "      <th>370682</th>\n",
       "      <td>109125</td>\n",
       "      <td>4.510006e+09</td>\n",
       "      <td>1</td>\n",
       "      <td>2536.0</td>\n",
       "    </tr>\n",
       "    <tr>\n",
       "      <th>625374</th>\n",
       "      <td>186099</td>\n",
       "      <td>1.900009e+09</td>\n",
       "      <td>1</td>\n",
       "      <td>96.0</td>\n",
       "    </tr>\n",
       "  </tbody>\n",
       "</table>\n",
       "</div>"
      ],
      "text/plain": [
       "        VisitNumber           Upc  ScanCount  FinelineNumber\n",
       "623372       185569  7.874204e+09          2          9220.0\n",
       "524374       154979  6.053886e+10          1             0.0\n",
       "11996          4049  3.700086e+09          1          3041.0\n",
       "370682       109125  4.510006e+09          1          2536.0\n",
       "625374       186099  1.900009e+09          1            96.0"
      ]
     },
     "execution_count": 48,
     "metadata": {},
     "output_type": "execute_result"
    }
   ],
   "source": [
    "X_test.head()"
   ]
  },
  {
   "cell_type": "code",
   "execution_count": 38,
   "metadata": {},
   "outputs": [
    {
     "data": {
      "text/plain": [
       "(212166, 7)"
      ]
     },
     "execution_count": 38,
     "metadata": {},
     "output_type": "execute_result"
    }
   ],
   "source": [
    "X_test.shape"
   ]
  },
  {
   "cell_type": "code",
   "execution_count": 49,
   "metadata": {},
   "outputs": [
    {
     "data": {
      "text/plain": [
       "176103    24\n",
       "427024    40\n",
       "337126    44\n",
       "172443    40\n",
       "623693    40\n",
       "Name: TripType, dtype: int64"
      ]
     },
     "execution_count": 49,
     "metadata": {},
     "output_type": "execute_result"
    }
   ],
   "source": [
    "y_train.head()"
   ]
  },
  {
   "cell_type": "code",
   "execution_count": 63,
   "metadata": {},
   "outputs": [
    {
     "data": {
      "text/plain": [
       "DecisionTreeClassifier(class_weight=None, criterion='gini', max_depth=None,\n",
       "            max_features=None, max_leaf_nodes=100,\n",
       "            min_impurity_decrease=0.0, min_impurity_split=None,\n",
       "            min_samples_leaf=1, min_samples_split=2,\n",
       "            min_weight_fraction_leaf=0.0, presort=False, random_state=0,\n",
       "            splitter='best')"
      ]
     },
     "execution_count": 63,
     "metadata": {},
     "output_type": "execute_result"
    }
   ],
   "source": [
    "triptype_classifier.fit(X_train,y_train)"
   ]
  },
  {
   "cell_type": "code",
   "execution_count": 64,
   "metadata": {},
   "outputs": [],
   "source": [
    "predictions = triptype_classifier.predict(X_test)"
   ]
  },
  {
   "cell_type": "code",
   "execution_count": 65,
   "metadata": {},
   "outputs": [
    {
     "data": {
      "text/plain": [
       "0.30718399743596997"
      ]
     },
     "execution_count": 65,
     "metadata": {},
     "output_type": "execute_result"
    }
   ],
   "source": [
    "accuracy_score(y_true = y_test,y_pred = predictions)"
   ]
  },
  {
   "cell_type": "code",
   "execution_count": null,
   "metadata": {},
   "outputs": [],
   "source": []
  }
 ],
 "metadata": {
  "kernelspec": {
   "display_name": "Python 3",
   "language": "python",
   "name": "python3"
  },
  "language_info": {
   "codemirror_mode": {
    "name": "ipython",
    "version": 3
   },
   "file_extension": ".py",
   "mimetype": "text/x-python",
   "name": "python",
   "nbconvert_exporter": "python",
   "pygments_lexer": "ipython3",
   "version": "3.6.2"
  }
 },
 "nbformat": 4,
 "nbformat_minor": 2
}
