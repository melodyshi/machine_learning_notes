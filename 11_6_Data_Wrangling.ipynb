{
 "cells": [
  {
   "cell_type": "code",
   "execution_count": null,
   "metadata": {},
   "outputs": [],
   "source": [
    "import pandas as pd\n",
    "import numpy as np\n",
    "from bs4 import BeautifulSoup"
   ]
  },
  {
   "cell_type": "code",
   "execution_count": null,
   "metadata": {},
   "outputs": [],
   "source": [
    "# load data\n",
    "sql_dataframe   = pd.read_sql_table('my_table', engine, columns=['ColA', 'ColB'])\n",
    "xls_dataframe   = pd.read_excel('my_dataset.xlsx', 'Sheet1', na_values=['NA', '?'])\n",
    "json_dataframe  = pd.read_json('my_dataset.json', orient='columns')\n",
    "csv_dataframe   = pd.read_csv('my_dataset.csv', sep=',')\n",
    "table_dataframe = pd.read_html('http://page.com/with/table.html')[0]"
   ]
  },
  {
   "cell_type": "code",
   "execution_count": null,
   "metadata": {},
   "outputs": [],
   "source": [
    "df.dtypes"
   ]
  },
  {
   "cell_type": "code",
   "execution_count": null,
   "metadata": {},
   "outputs": [],
   "source": [
    "# drop rows with > 4 nan values\n",
    "# get index of these rows first, then drop\n",
    "df=df.drop(df[df.isnull().sum(axis=1)>4].index.values)"
   ]
  },
  {
   "cell_type": "code",
   "execution_count": null,
   "metadata": {},
   "outputs": [],
   "source": [
    "# select columns\n",
    "df.iloc[:,3:] # df.loc[row_indexer,column_indexer]"
   ]
  },
  {
   "cell_type": "code",
   "execution_count": null,
   "metadata": {},
   "outputs": [],
   "source": [
    "# replace value as null\n",
    "df.replace('?',np.NaN)"
   ]
  },
  {
   "cell_type": "code",
   "execution_count": null,
   "metadata": {},
   "outputs": [],
   "source": [
    "# fill NaN by the mean of the column\n",
    "df.my_feature.fillna(df.my_feature.mean(axis = 0))"
   ]
  },
  {
   "cell_type": "code",
   "execution_count": null,
   "metadata": {},
   "outputs": [],
   "source": [
    "df.fillna(method='ffill')  # fill the values forward\n",
    "df.fillna(method='bfill')  # fill the values in reverse\n",
    "df.fillna(limit=5)"
   ]
  },
  {
   "cell_type": "code",
   "execution_count": null,
   "metadata": {},
   "outputs": [],
   "source": [
    "# Fill out nans by interpolating over them with \n",
    "# the non-nan values that come immediately before and after.\n",
    "df.interpolate(method='polynomial', order=2)"
   ]
  },
  {
   "cell_type": "code",
   "execution_count": null,
   "metadata": {},
   "outputs": [],
   "source": [
    "df = df.dropna(axis=0)  # remove any row with nans\n",
    "df = df.dropna(axis=1)  # remove any column with nans"
   ]
  },
  {
   "cell_type": "code",
   "execution_count": null,
   "metadata": {},
   "outputs": [],
   "source": [
    "# Drop non-nan values\n",
    "# Axis=1 for columns\n",
    "df = df.drop(labels=['Features', 'To', 'Delete'], axis=1)"
   ]
  },
  {
   "cell_type": "code",
   "execution_count": null,
   "metadata": {},
   "outputs": [],
   "source": [
    "# drop duplicates based on subset\n",
    "# only keep the first one\n",
    "df = df.drop_duplicates(subset=['Feature_1', 'Feature_2'])"
   ]
  },
  {
   "cell_type": "code",
   "execution_count": null,
   "metadata": {},
   "outputs": [],
   "source": [
    "# reset index after dropping rows\n",
    "# drop the original index\n",
    "df = df.reset_index(drop=True)"
   ]
  },
  {
   "cell_type": "code",
   "execution_count": null,
   "metadata": {},
   "outputs": [],
   "source": [
    "# chain methods\n",
    "df = df.dropna(axis=0, thresh=2).drop(labels=['ColA', axis=1]).drop_duplicates(subset=['ColB', 'ColC']).reset_index()\n"
   ]
  },
  {
   "cell_type": "code",
   "execution_count": null,
   "metadata": {},
   "outputs": [],
   "source": [
    "# convert column data types\n",
    "# The errors='coerce' parameter instructs Pandas \n",
    "# to enter a NaN at any field where the conversion fails\n",
    "\n",
    "# for one column(convert series)\n",
    "df.Date = pd.to_datetime(df.Date, errors='coerce')\n",
    "df.Height = pd.to_numeric(df.Height, errors='coerce')\n",
    "df.Weight = pd.to_numeric(df.Weight, errors='coerce')\n",
    "df.Age = pd.to_numeric(df.Age, errors='coerce')"
   ]
  },
  {
   "cell_type": "code",
   "execution_count": null,
   "metadata": {},
   "outputs": [],
   "source": [
    "# see all unique values in a column\n",
    "df.Age.unique()\n",
    "df.Age.value_counts()"
   ]
  },
  {
   "cell_type": "code",
   "execution_count": null,
   "metadata": {},
   "outputs": [],
   "source": [
    "# export data\n",
    "my_dataframe.to_sql('table', engine)\n",
    "my_dataframe.to_excel('dataset.xlsx')\n",
    "my_dataframe.to_json('dataset.json')\n",
    "my_dataframe.to_csv('dataset.csv')"
   ]
  }
 ],
 "metadata": {
  "kernelspec": {
   "display_name": "Python 3",
   "language": "python",
   "name": "python3"
  },
  "language_info": {
   "codemirror_mode": {
    "name": "ipython",
    "version": 3
   },
   "file_extension": ".py",
   "mimetype": "text/x-python",
   "name": "python",
   "nbconvert_exporter": "python",
   "pygments_lexer": "ipython3",
   "version": "3.6.2"
  }
 },
 "nbformat": 4,
 "nbformat_minor": 2
}
