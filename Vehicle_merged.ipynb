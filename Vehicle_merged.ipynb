{
 "cells": [
  {
   "cell_type": "code",
   "execution_count": 1,
   "metadata": {},
   "outputs": [],
   "source": [
    "import pandas as pd\n",
    "import numpy as np"
   ]
  },
  {
   "cell_type": "code",
   "execution_count": 102,
   "metadata": {},
   "outputs": [],
   "source": [
    "# read acceleration dataset, update column names\n",
    "acc = pd.read_csv('accelerometer.csv')\n",
    "acc.columns = ['timestamp','x','y','z']"
   ]
  },
  {
   "cell_type": "code",
   "execution_count": 103,
   "metadata": {},
   "outputs": [
    {
     "data": {
      "text/plain": [
       "(1073806, 4)"
      ]
     },
     "execution_count": 103,
     "metadata": {},
     "output_type": "execute_result"
    }
   ],
   "source": [
    "acc.head()\n",
    "acc.shape"
   ]
  },
  {
   "cell_type": "code",
   "execution_count": 104,
   "metadata": {},
   "outputs": [],
   "source": [
    "# read gps dataset, update column names\n",
    "gps = pd.read_csv('gps.csv')\n",
    "gps.head()\n",
    "gps.columns = ['timestamp','longitude','latitute','altitude','vertical','horizontal','instant_v']"
   ]
  },
  {
   "cell_type": "code",
   "execution_count": 105,
   "metadata": {},
   "outputs": [
    {
     "data": {
      "text/plain": [
       "(21051, 7)"
      ]
     },
     "execution_count": 105,
     "metadata": {},
     "output_type": "execute_result"
    }
   ],
   "source": [
    "gps.head()\n",
    "gps.shape"
   ]
  },
  {
   "cell_type": "code",
   "execution_count": 106,
   "metadata": {},
   "outputs": [],
   "source": [
    "# read gyro dateset, update column names\n",
    "gyro = pd.read_csv('gyro.csv')\n",
    "gyro.columns=['timestamp','x_axis','y_axis','z_axis']"
   ]
  },
  {
   "cell_type": "code",
   "execution_count": 61,
   "metadata": {},
   "outputs": [
    {
     "data": {
      "text/html": [
       "<div>\n",
       "<style>\n",
       "    .dataframe thead tr:only-child th {\n",
       "        text-align: right;\n",
       "    }\n",
       "\n",
       "    .dataframe thead th {\n",
       "        text-align: left;\n",
       "    }\n",
       "\n",
       "    .dataframe tbody tr th {\n",
       "        vertical-align: top;\n",
       "    }\n",
       "</style>\n",
       "<table border=\"1\" class=\"dataframe\">\n",
       "  <thead>\n",
       "    <tr style=\"text-align: right;\">\n",
       "      <th></th>\n",
       "      <th>timestamp</th>\n",
       "      <th>x_axis</th>\n",
       "      <th>y_axis</th>\n",
       "      <th>z_axis</th>\n",
       "    </tr>\n",
       "  </thead>\n",
       "  <tbody>\n",
       "    <tr>\n",
       "      <th>0</th>\n",
       "      <td>1501784767976</td>\n",
       "      <td>0.0308</td>\n",
       "      <td>0.0193</td>\n",
       "      <td>-0.0134</td>\n",
       "    </tr>\n",
       "    <tr>\n",
       "      <th>1</th>\n",
       "      <td>1501784767996</td>\n",
       "      <td>0.0298</td>\n",
       "      <td>0.0044</td>\n",
       "      <td>-0.0081</td>\n",
       "    </tr>\n",
       "    <tr>\n",
       "      <th>2</th>\n",
       "      <td>1501784768016</td>\n",
       "      <td>0.0118</td>\n",
       "      <td>-0.0084</td>\n",
       "      <td>0.0001</td>\n",
       "    </tr>\n",
       "    <tr>\n",
       "      <th>3</th>\n",
       "      <td>1501784768036</td>\n",
       "      <td>0.0287</td>\n",
       "      <td>0.0182</td>\n",
       "      <td>-0.0135</td>\n",
       "    </tr>\n",
       "    <tr>\n",
       "      <th>4</th>\n",
       "      <td>1501784768056</td>\n",
       "      <td>0.0266</td>\n",
       "      <td>0.0097</td>\n",
       "      <td>-0.0124</td>\n",
       "    </tr>\n",
       "  </tbody>\n",
       "</table>\n",
       "</div>"
      ],
      "text/plain": [
       "       timestamp  x_axis  y_axis  z_axis\n",
       "0  1501784767976  0.0308  0.0193 -0.0134\n",
       "1  1501784767996  0.0298  0.0044 -0.0081\n",
       "2  1501784768016  0.0118 -0.0084  0.0001\n",
       "3  1501784768036  0.0287  0.0182 -0.0135\n",
       "4  1501784768056  0.0266  0.0097 -0.0124"
      ]
     },
     "execution_count": 61,
     "metadata": {},
     "output_type": "execute_result"
    }
   ],
   "source": [
    "gyro.head()"
   ]
  },
  {
   "cell_type": "code",
   "execution_count": 96,
   "metadata": {},
   "outputs": [
    {
     "data": {
      "text/plain": [
       "(1112308, 4)"
      ]
     },
     "execution_count": 96,
     "metadata": {},
     "output_type": "execute_result"
    }
   ],
   "source": [
    "gyro.shape"
   ]
  },
  {
   "cell_type": "code",
   "execution_count": 9,
   "metadata": {},
   "outputs": [],
   "source": [
    "# convert timestamp in millionseconds to date time (format: YYYY-MM-DD hh:mm:ss)\n",
    "# group by date time, take mean value of each feature\n",
    "def getdate(df):\n",
    "    df_to_date = pd.to_datetime(df['timestamp'],unit='ms')\n",
    "    str_df_to_date = df_to_date.apply(str).str[:19]\n",
    "    df['to_second']=str_df_to_date\n",
    "    del df['timestamp']\n",
    "    df_group = df.groupby('to_second').mean()\n",
    "    df = df_group.reset_index()    \n",
    "    return df\n",
    "\n"
   ]
  },
  {
   "cell_type": "code",
   "execution_count": 107,
   "metadata": {},
   "outputs": [],
   "source": [
    "acc = getdate(acc)\n",
    "gps = getdate(gps)\n",
    "gyro = getdate(gyro)"
   ]
  },
  {
   "cell_type": "code",
   "execution_count": 41,
   "metadata": {},
   "outputs": [],
   "source": [
    "# merge three tables on date time\n",
    "def merge_table(df1,df2,df3):\n",
    "    df1_df2 = df1.merge(df2,on = 'to_second',how = 'inner')\n",
    "    df1_df2_df3 = df1_df2.merge(df3, on = 'to_second',how = 'inner')\n",
    "    return df1_df2_df3\n"
   ]
  },
  {
   "cell_type": "code",
   "execution_count": 110,
   "metadata": {},
   "outputs": [],
   "source": [
    "merged = merge_table(gps,acc,gyro)"
   ]
  },
  {
   "cell_type": "code",
   "execution_count": 111,
   "metadata": {},
   "outputs": [],
   "source": [
    "# export dataset\n",
    "merged.to_csv('Vehicle_merged_1.csv')"
   ]
  },
  {
   "cell_type": "code",
   "execution_count": null,
   "metadata": {},
   "outputs": [],
   "source": []
  }
 ],
 "metadata": {
  "kernelspec": {
   "display_name": "Python 3",
   "language": "python",
   "name": "python3"
  },
  "language_info": {
   "codemirror_mode": {
    "name": "ipython",
    "version": 3
   },
   "file_extension": ".py",
   "mimetype": "text/x-python",
   "name": "python",
   "nbconvert_exporter": "python",
   "pygments_lexer": "ipython3",
   "version": "3.6.2"
  }
 },
 "nbformat": 4,
 "nbformat_minor": 2
}
