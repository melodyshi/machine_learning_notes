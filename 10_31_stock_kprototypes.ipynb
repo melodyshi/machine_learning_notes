{
 "cells": [
  {
   "cell_type": "code",
   "execution_count": 4,
   "metadata": {},
   "outputs": [],
   "source": [
    "import numpy as np\n",
    "import pandas as pd\n",
    "from kmodes.kprototypes import KPrototypes"
   ]
  },
  {
   "cell_type": "code",
   "execution_count": 5,
   "metadata": {},
   "outputs": [],
   "source": [
    "X = np.genfromtxt('stocks.csv', dtype=object, delimiter=',')[:, 1:]"
   ]
  },
  {
   "cell_type": "code",
   "execution_count": 6,
   "metadata": {},
   "outputs": [
    {
     "data": {
      "text/plain": [
       "array([[b'738.5', b'tech', b'USA'],\n",
       "       [b'369.5', b'nrg', b'USA'],\n",
       "       [b'368.2', b'tech', b'USA'],\n",
       "       [b'346.7', b'tech', b'USA'],\n",
       "       [b'343.5', b'fin', b'USA'],\n",
       "       [b'282.4', b'fin', b'USA'],\n",
       "       [b'282.1', b'tel', b'CN'],\n",
       "       [b'279.7', b'cons', b'USA'],\n",
       "       [b'257.2', b'cons', b'USA'],\n",
       "       [b'205.2', b'tel', b'USA'],\n",
       "       [b'192.1', b'tech', b'USA'],\n",
       "       [b'195.7', b'nrg', b'NL']], dtype=object)"
      ]
     },
     "execution_count": 6,
     "metadata": {},
     "output_type": "execute_result"
    }
   ],
   "source": [
    "X"
   ]
  },
  {
   "cell_type": "code",
   "execution_count": 7,
   "metadata": {},
   "outputs": [],
   "source": [
    "X[:, 0] = X[:, 0].astype(float)"
   ]
  },
  {
   "cell_type": "code",
   "execution_count": 8,
   "metadata": {},
   "outputs": [
    {
     "name": "stdout",
     "output_type": "stream",
     "text": [
      "Initialization method and algorithm are deterministic. Setting n_init to 1.\n",
      "Init: initializing centroids\n",
      "Init: initializing clusters\n",
      "Init: initializing centroids\n",
      "Init: initializing clusters\n",
      "Init: initializing centroids\n",
      "Init: initializing clusters\n",
      "Starting iterations...\n",
      "Run: 1, iteration: 1/100, moves: 3, ncost: 112245.74988828383\n",
      "Run: 1, iteration: 2/100, moves: 2, ncost: 78210.09280209709\n",
      "Run: 1, iteration: 3/100, moves: 5, ncost: 7248.327507312501\n",
      "Run: 1, iteration: 4/100, moves: 3, ncost: 1664.470854950487\n",
      "Run: 1, iteration: 5/100, moves: 0, ncost: 1664.470854950487\n"
     ]
    }
   ],
   "source": [
    "kproto = KPrototypes(n_clusters=4, init='Cao', verbose=2)\n",
    "clusters = kproto.fit_predict(X, categorical=[1, 2])"
   ]
  },
  {
   "cell_type": "code",
   "execution_count": 9,
   "metadata": {},
   "outputs": [
    {
     "name": "stdout",
     "output_type": "stream",
     "text": [
      "[array([[ 197.66666667],\n",
      "       [ 275.35      ],\n",
      "       [ 738.5       ],\n",
      "       [ 356.975     ]]), array([[b'tech', b'USA'],\n",
      "       [b'cons', b'USA'],\n",
      "       [b'tech', b'USA'],\n",
      "       [b'tech', b'USA']], \n",
      "      dtype='|S4')]\n"
     ]
    }
   ],
   "source": [
    "print(kproto.cluster_centroids_)"
   ]
  },
  {
   "cell_type": "code",
   "execution_count": 12,
   "metadata": {},
   "outputs": [
    {
     "name": "stdout",
     "output_type": "stream",
     "text": [
      "1664.47085495\n",
      "5\n"
     ]
    }
   ],
   "source": [
    "print(kproto.cost_)\n",
    "print(kproto.n_iter_)\n",
    "syms = np.genfromtxt('stocks.csv', dtype=str, delimiter=',')[:, 0]"
   ]
  },
  {
   "cell_type": "code",
   "execution_count": 13,
   "metadata": {},
   "outputs": [
    {
     "name": "stdout",
     "output_type": "stream",
     "text": [
      "Symbol: AAPL, cluster:2\n",
      "Symbol: XOM, cluster:3\n",
      "Symbol: GOOGL, cluster:3\n",
      "Symbol: MSFT, cluster:3\n",
      "Symbol: BRK-A, cluster:3\n",
      "Symbol: WFC, cluster:1\n",
      "Symbol: CHL, cluster:1\n",
      "Symbol: JNJ, cluster:1\n",
      "Symbol: WMT, cluster:1\n",
      "Symbol: VZ, cluster:0\n",
      "Symbol: ORCL, cluster:0\n",
      "Symbol: RDS-A, cluster:0\n"
     ]
    }
   ],
   "source": [
    "for s, c in zip(syms, clusters):\n",
    "    print(\"Symbol: {}, cluster:{}\".format(s, c))"
   ]
  },
  {
   "cell_type": "code",
   "execution_count": 26,
   "metadata": {},
   "outputs": [],
   "source": [
    "def is_perfect(number):\n",
    "    is_perfect = True\n",
    "    cum = 0\n",
    "    if number == 1:\n",
    "        is_perfect = False\n",
    "    else:\n",
    "        for i in range(1,number):\n",
    "            if number % i == 0:\n",
    "                cum += i\n",
    "        if cum != number:\n",
    "            is_perfect = False\n",
    "    return is_perfect"
   ]
  },
  {
   "cell_type": "code",
   "execution_count": 31,
   "metadata": {},
   "outputs": [
    {
     "data": {
      "text/plain": [
       "True"
      ]
     },
     "execution_count": 31,
     "metadata": {},
     "output_type": "execute_result"
    }
   ],
   "source": [
    "is_perfect(28)"
   ]
  },
  {
   "cell_type": "code",
   "execution_count": 32,
   "metadata": {},
   "outputs": [],
   "source": [
    "def is_abundant(number):\n",
    "    is_abundant = True\n",
    "    cum = 0\n",
    "    if number == 1:\n",
    "        is_abundant = False\n",
    "    else:\n",
    "        for i in range(1,number):\n",
    "            if number % i == 0:\n",
    "                cum += i\n",
    "        if cum <= number:\n",
    "            is_abundant = False\n",
    "    return is_abundant"
   ]
  },
  {
   "cell_type": "code",
   "execution_count": 50,
   "metadata": {},
   "outputs": [],
   "source": [
    "def vertical_line(shift,height,character):\n",
    "    pattern = ''\n",
    "    for i in character*height:\n",
    "        pattern += (' '*shift)+i+'\\n'\n",
    "    return pattern"
   ]
  },
  {
   "cell_type": "code",
   "execution_count": 8,
   "metadata": {},
   "outputs": [],
   "source": [
    "\n",
    "def horizontal_line(width,character):\n",
    "    pattern = character * width +'\\n'\n",
    "    return pattern\n",
    "\n",
    "def vertical_line(shift,height,character):\n",
    "    pattern = ''\n",
    "    for i in character*height:\n",
    "        pattern += ' '*shift+i+'\\n'\n",
    "    return pattern\n",
    "\n",
    "def two_vertical_lines(width,height,character):\n",
    "    pattern = ''\n",
    "    for i in character*height:\n",
    "        pattern += character+' '*(width-2)+i+'\\n'\n",
    "    return pattern\n",
    "\n",
    "def number_0(width,character):\n",
    "    pattern = horizontal_line(width,character) +two_vertical_lines(width,3,character) + horizontal_line(width,character)\n",
    "    return pattern\n",
    "def number_1(width,character):\n",
    "    pattern = vertical_line(width-1,5,character)\n",
    "    return pattern"
   ]
  },
  {
   "cell_type": "code",
   "execution_count": 79,
   "metadata": {},
   "outputs": [
    {
     "name": "stdout",
     "output_type": "stream",
     "text": [
      "*****\n",
      "*   *\n",
      "*****\n",
      "    *\n",
      "    *\n",
      "\n",
      "\n"
     ]
    }
   ],
   "source": [
    "temp = number_9(5, '*')\n",
    "print(temp)\n",
    "print()"
   ]
  },
  {
   "cell_type": "code",
   "execution_count": 59,
   "metadata": {},
   "outputs": [],
   "source": [
    "def number_2(width,character):\n",
    "    pattern = horizontal_line(width,character) + vertical_line(width-1,1,character) +horizontal_line(width,character)+horizontal_line(1,character)+ horizontal_line(width,character)\n",
    "    return pattern"
   ]
  },
  {
   "cell_type": "code",
   "execution_count": 61,
   "metadata": {},
   "outputs": [],
   "source": [
    "def number_3(width,character):\n",
    "    pattern = horizontal_line(width,character) + vertical_line(width-1,1,character) +horizontal_line(width,character)+vertical_line(width-1,1,character)+ horizontal_line(width,character)\n",
    "    return pattern"
   ]
  },
  {
   "cell_type": "code",
   "execution_count": 67,
   "metadata": {},
   "outputs": [],
   "source": [
    "def number_4(width,character):\n",
    "    pattern = two_vertical_lines(width,2,character) + horizontal_line(width,character) +vertical_line(width-1,2,character)\n",
    "    return pattern\n"
   ]
  },
  {
   "cell_type": "code",
   "execution_count": 69,
   "metadata": {},
   "outputs": [],
   "source": [
    "def number_5(width,character):\n",
    "    pattern = horizontal_line(width,character) + horizontal_line(1,character) +horizontal_line(width,character)+vertical_line(width-1,1,character)+ horizontal_line(width,character)\n",
    "    return pattern"
   ]
  },
  {
   "cell_type": "code",
   "execution_count": 72,
   "metadata": {},
   "outputs": [],
   "source": [
    "def number_6(width,character):\n",
    "    pattern = horizontal_line(width,character) + horizontal_line(1,character)+horizontal_line(width,character)+two_vertical_lines(width,1,character)+horizontal_line(width,character)\n",
    "    return pattern\n"
   ]
  },
  {
   "cell_type": "code",
   "execution_count": 74,
   "metadata": {},
   "outputs": [],
   "source": [
    "def number_7(width,character):\n",
    "    pattern = horizontal_line(width,character) +vertical_line(width-1,4,character)\n",
    "    return pattern\n"
   ]
  },
  {
   "cell_type": "code",
   "execution_count": 76,
   "metadata": {},
   "outputs": [],
   "source": [
    "def number_8(width,character):\n",
    "    pattern = horizontal_line(width,character) +two_vertical_lines(width,1,character)+horizontal_line(width,character)+two_vertical_lines(width,1,character)+horizontal_line(width,character)\n",
    "    return pattern\n"
   ]
  },
  {
   "cell_type": "code",
   "execution_count": 78,
   "metadata": {},
   "outputs": [],
   "source": [
    "def number_9(width,character):\n",
    "    pattern = horizontal_line(width,character) +two_vertical_lines(width,1,character)+horizontal_line(width,character)+vertical_line(width-1,2,character)\n",
    "    return pattern"
   ]
  },
  {
   "cell_type": "code",
   "execution_count": 3,
   "metadata": {},
   "outputs": [
    {
     "name": "stdout",
     "output_type": "stream",
     "text": [
      "7\n",
      "5\n",
      "3\n"
     ]
    }
   ],
   "source": [
    "for i in range(7,1,-2):\n",
    "    print(i)"
   ]
  },
  {
   "cell_type": "code",
   "execution_count": 25,
   "metadata": {},
   "outputs": [],
   "source": [
    "def multiplication(width,character):\n",
    "    pattern = ''\n",
    "    if width % 2 == 0:        \n",
    "        for i,j in zip(range(int(width),1,-2),range(0,int(width/2))):\n",
    "            pattern += ' '*j+two_vertical_lines(i,1,character)\n",
    "        for i,j in zip(range(2,int(width+1),2),range(int(width/2-1),-1,-1)):\n",
    "            pattern += ' '*j + two_vertical_lines(i,1,character)\n",
    "    elif width % 2 != 0:\n",
    "        for i,j in zip(range(int(width),1,-2),range(0,int(width/2))):\n",
    "            pattern += ' '*j+two_vertical_lines(i,1,character)\n",
    "        pattern += ' '*int(width/2) + character +'\\n'\n",
    "        for i,j in zip(range(3,int(width+1),2),range(int(width/2-1),-1,-1)):\n",
    "            pattern += ' '*j + two_vertical_lines(i,1,character)                    \n",
    "    return pattern"
   ]
  },
  {
   "cell_type": "code",
   "execution_count": 31,
   "metadata": {},
   "outputs": [
    {
     "name": "stdout",
     "output_type": "stream",
     "text": [
      "*         *\n",
      " *       *\n",
      "  *     *\n",
      "   *   *\n",
      "    * *\n",
      "     *\n",
      "    * *\n",
      "   *   *\n",
      "  *     *\n",
      " *       *\n",
      "*         *\n",
      "\n"
     ]
    }
   ],
   "source": [
    "print(multiplication(11,'*'))"
   ]
  },
  {
   "cell_type": "code",
   "execution_count": 41,
   "metadata": {},
   "outputs": [],
   "source": [
    "def division(width,character):\n",
    "    pattern = ''\n",
    "    for i in range(int(width-1),-1,-1):\n",
    "        pattern += ' '*i +character +'\\n'\n",
    "    return pattern"
   ]
  },
  {
   "cell_type": "code",
   "execution_count": 42,
   "metadata": {},
   "outputs": [
    {
     "name": "stdout",
     "output_type": "stream",
     "text": [
      "          *\n",
      "         *\n",
      "        *\n",
      "       *\n",
      "      *\n",
      "     *\n",
      "    *\n",
      "   *\n",
      "  *\n",
      " *\n",
      "*\n",
      "\n"
     ]
    }
   ],
   "source": [
    "print(division(11,'*'))"
   ]
  },
  {
   "cell_type": "code",
   "execution_count": null,
   "metadata": {},
   "outputs": [],
   "source": []
  },
  {
   "cell_type": "code",
   "execution_count": null,
   "metadata": {},
   "outputs": [],
   "source": []
  }
 ],
 "metadata": {
  "kernelspec": {
   "display_name": "Python 3",
   "language": "python",
   "name": "python3"
  },
  "language_info": {
   "codemirror_mode": {
    "name": "ipython",
    "version": 3
   },
   "file_extension": ".py",
   "mimetype": "text/x-python",
   "name": "python",
   "nbconvert_exporter": "python",
   "pygments_lexer": "ipython3",
   "version": "3.6.2"
  }
 },
 "nbformat": 4,
 "nbformat_minor": 2
}
