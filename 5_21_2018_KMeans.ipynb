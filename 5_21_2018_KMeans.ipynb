{
 "cells": [
  {
   "cell_type": "markdown",
   "metadata": {},
   "source": [
    "# DAT210x - Programming with Python for DS"
   ]
  },
  {
   "cell_type": "markdown",
   "metadata": {},
   "source": [
    "## Module5- Lab3"
   ]
  },
  {
   "cell_type": "code",
   "execution_count": 22,
   "metadata": {},
   "outputs": [],
   "source": [
    "import pandas as pd\n",
    "from datetime import timedelta\n",
    "import matplotlib.pyplot as plt\n",
    "import matplotlib\n",
    "from sklearn.cluster import KMeans\n",
    "\n",
    "matplotlib.style.use('ggplot') # Look Pretty"
   ]
  },
  {
   "cell_type": "markdown",
   "metadata": {},
   "source": [
    "A convenience function for you to use:"
   ]
  },
  {
   "cell_type": "code",
   "execution_count": 2,
   "metadata": {},
   "outputs": [],
   "source": [
    "def clusterInfo(model):\n",
    "    print(\"Cluster Analysis Inertia: \", model.inertia_)\n",
    "    print('------------------------------------------')\n",
    "    \n",
    "    for i in range(len(model.cluster_centers_)):\n",
    "        print(\"\\n  Cluster \", i)\n",
    "        print(\"    Centroid \", model.cluster_centers_[i])\n",
    "        print(\"    #Samples \", (model.labels_==i).sum()) # NumPy Power"
   ]
  },
  {
   "cell_type": "code",
   "execution_count": 3,
   "metadata": {},
   "outputs": [],
   "source": [
    "# Find the cluster with the least # attached nodes\n",
    "def clusterWithFewestSamples(model):\n",
    "    # Ensure there's at least on cluster...\n",
    "    minSamples = len(model.labels_)\n",
    "    minCluster = 0\n",
    "    \n",
    "    for i in range(len(model.cluster_centers_)):\n",
    "        if minSamples > (model.labels_==i).sum():\n",
    "            minCluster = i\n",
    "            minSamples = (model.labels_==i).sum()\n",
    "\n",
    "    print(\"\\n  Cluster With Fewest Samples: \", minCluster)\n",
    "    return (model.labels_==minCluster)"
   ]
  },
  {
   "cell_type": "markdown",
   "metadata": {
    "collapsed": true
   },
   "source": [
    "### CDRs"
   ]
  },
  {
   "cell_type": "markdown",
   "metadata": {
    "collapsed": true
   },
   "source": [
    "A [call detail record](https://en.wikipedia.org/wiki/Call_detail_record) (CDR) is a data record produced by a telephone exchange or other telecommunications equipment that documents the details of a telephone call or other telecommunications transaction (e.g., text message) that passes through that facility or device.\n",
    "\n",
    "The record contains various attributes of the call, such as time, duration, completion status, source number, and destination number. It is the automated equivalent of the paper toll tickets that were written and timed by operators for long-distance calls in a manual telephone exchange.\n",
    "\n",
    "The dataset we've curated for you contains call records for 10 people, tracked over the course of 3 years. Your job in this assignment is to find out where each of these people likely live and where they work at!\n",
    "\n",
    "Start by loading up the dataset and taking a peek at its `head` and `dtypes`. You can convert date-strings to real date-time objects using `pd.to_datetime`, and the times using `pd.to_timedelta`:"
   ]
  },
  {
   "cell_type": "code",
   "execution_count": 7,
   "metadata": {},
   "outputs": [
    {
     "data": {
      "text/html": [
       "<div>\n",
       "<style>\n",
       "    .dataframe thead tr:only-child th {\n",
       "        text-align: right;\n",
       "    }\n",
       "\n",
       "    .dataframe thead th {\n",
       "        text-align: left;\n",
       "    }\n",
       "\n",
       "    .dataframe tbody tr th {\n",
       "        vertical-align: top;\n",
       "    }\n",
       "</style>\n",
       "<table border=\"1\" class=\"dataframe\">\n",
       "  <thead>\n",
       "    <tr style=\"text-align: right;\">\n",
       "      <th></th>\n",
       "      <th>In</th>\n",
       "      <th>Out</th>\n",
       "      <th>Direction</th>\n",
       "      <th>CallDate</th>\n",
       "      <th>CallTime</th>\n",
       "      <th>DOW</th>\n",
       "      <th>Duration</th>\n",
       "      <th>TowerID</th>\n",
       "      <th>TowerLat</th>\n",
       "      <th>TowerLon</th>\n",
       "    </tr>\n",
       "  </thead>\n",
       "  <tbody>\n",
       "    <tr>\n",
       "      <th>0</th>\n",
       "      <td>4638472273</td>\n",
       "      <td>2666307251</td>\n",
       "      <td>Incoming</td>\n",
       "      <td>2010-12-25</td>\n",
       "      <td>07:16:24.736813</td>\n",
       "      <td>Sat</td>\n",
       "      <td>0:02:41.741499</td>\n",
       "      <td>0db53dd3-eb9c-4344-abc5-c2d74ebc3eec</td>\n",
       "      <td>32.731611</td>\n",
       "      <td>-96.709417</td>\n",
       "    </tr>\n",
       "    <tr>\n",
       "      <th>1</th>\n",
       "      <td>4638472273</td>\n",
       "      <td>1755442610</td>\n",
       "      <td>Incoming</td>\n",
       "      <td>2010-12-25</td>\n",
       "      <td>21:18:30.053710</td>\n",
       "      <td>Sat</td>\n",
       "      <td>0:02:47.108750</td>\n",
       "      <td>aeaf8b43-8034-44fe-833d-31854a75acbf</td>\n",
       "      <td>32.731722</td>\n",
       "      <td>-96.709500</td>\n",
       "    </tr>\n",
       "    <tr>\n",
       "      <th>2</th>\n",
       "      <td>4638472273</td>\n",
       "      <td>5481755331</td>\n",
       "      <td>Incoming</td>\n",
       "      <td>2010-12-25</td>\n",
       "      <td>14:52:42.878016</td>\n",
       "      <td>Sat</td>\n",
       "      <td>0:04:35.356341</td>\n",
       "      <td>fadaa83f-6001-45fd-aa4a-17d6c6b7ec00</td>\n",
       "      <td>32.899944</td>\n",
       "      <td>-96.910389</td>\n",
       "    </tr>\n",
       "    <tr>\n",
       "      <th>3</th>\n",
       "      <td>4638472273</td>\n",
       "      <td>1755442610</td>\n",
       "      <td>Incoming</td>\n",
       "      <td>2010-12-25</td>\n",
       "      <td>16:02:09.001913</td>\n",
       "      <td>Sat</td>\n",
       "      <td>0:02:23.498499</td>\n",
       "      <td>fadaa83f-6001-45fd-aa4a-17d6c6b7ec00</td>\n",
       "      <td>32.899944</td>\n",
       "      <td>-96.910389</td>\n",
       "    </tr>\n",
       "    <tr>\n",
       "      <th>4</th>\n",
       "      <td>4638472273</td>\n",
       "      <td>2145623768</td>\n",
       "      <td>Incoming</td>\n",
       "      <td>2010-12-25</td>\n",
       "      <td>15:28:35.028554</td>\n",
       "      <td>Sat</td>\n",
       "      <td>0:03:54.692497</td>\n",
       "      <td>95d7920d-c3cd-4d20-a568-9a55800dc807</td>\n",
       "      <td>32.899944</td>\n",
       "      <td>-96.910389</td>\n",
       "    </tr>\n",
       "  </tbody>\n",
       "</table>\n",
       "</div>"
      ],
      "text/plain": [
       "           In         Out Direction    CallDate         CallTime  DOW  \\\n",
       "0  4638472273  2666307251  Incoming  2010-12-25  07:16:24.736813  Sat   \n",
       "1  4638472273  1755442610  Incoming  2010-12-25  21:18:30.053710  Sat   \n",
       "2  4638472273  5481755331  Incoming  2010-12-25  14:52:42.878016  Sat   \n",
       "3  4638472273  1755442610  Incoming  2010-12-25  16:02:09.001913  Sat   \n",
       "4  4638472273  2145623768  Incoming  2010-12-25  15:28:35.028554  Sat   \n",
       "\n",
       "         Duration                               TowerID   TowerLat   TowerLon  \n",
       "0  0:02:41.741499  0db53dd3-eb9c-4344-abc5-c2d74ebc3eec  32.731611 -96.709417  \n",
       "1  0:02:47.108750  aeaf8b43-8034-44fe-833d-31854a75acbf  32.731722 -96.709500  \n",
       "2  0:04:35.356341  fadaa83f-6001-45fd-aa4a-17d6c6b7ec00  32.899944 -96.910389  \n",
       "3  0:02:23.498499  fadaa83f-6001-45fd-aa4a-17d6c6b7ec00  32.899944 -96.910389  \n",
       "4  0:03:54.692497  95d7920d-c3cd-4d20-a568-9a55800dc807  32.899944 -96.910389  "
      ]
     },
     "execution_count": 7,
     "metadata": {},
     "output_type": "execute_result"
    }
   ],
   "source": [
    "df = pd.read_csv(\"CDR.csv\")\n",
    "df.head()"
   ]
  },
  {
   "cell_type": "code",
   "execution_count": 8,
   "metadata": {},
   "outputs": [
    {
     "data": {
      "text/plain": [
       "In                     int64\n",
       "Out                    int64\n",
       "Direction             object\n",
       "CallDate      datetime64[ns]\n",
       "CallTime     timedelta64[ns]\n",
       "DOW                   object\n",
       "Duration              object\n",
       "TowerID               object\n",
       "TowerLat             float64\n",
       "TowerLon             float64\n",
       "dtype: object"
      ]
     },
     "execution_count": 8,
     "metadata": {},
     "output_type": "execute_result"
    }
   ],
   "source": [
    "df.CallDate = pd.to_datetime(df.CallDate,errors='coerce')\n",
    "df.CallTime = pd.to_timedelta(df.CallTime,errors = 'coerce')\n",
    "df.dtypes"
   ]
  },
  {
   "cell_type": "markdown",
   "metadata": {},
   "source": [
    "Create a unique list of the phone number values (people) stored in the `In` column of the dataset, and save them in a regular python list called `unique_numbers`. Manually check through `unique_numbers` to ensure the order the numbers appear is the same order they (uniquely) appear in your dataset:"
   ]
  },
  {
   "cell_type": "code",
   "execution_count": 9,
   "metadata": {},
   "outputs": [
    {
     "data": {
      "text/plain": [
       "[4638472273,\n",
       " 1559410755,\n",
       " 4931532174,\n",
       " 2419930464,\n",
       " 1884182865,\n",
       " 3688089071,\n",
       " 4555003213,\n",
       " 2068627935,\n",
       " 2894365987,\n",
       " 8549533077]"
      ]
     },
     "execution_count": 9,
     "metadata": {},
     "output_type": "execute_result"
    }
   ],
   "source": [
    "unique_numbers = df.In.unique().tolist()\n",
    "unique_numbers"
   ]
  },
  {
   "cell_type": "markdown",
   "metadata": {},
   "source": [
    "Using some domain expertise, your intuition should direct you to know that people are likely to behave differently on weekends vs on weekdays:\n",
    "\n",
    "#### On Weekends\n",
    "1. People probably don't go into work\n",
    "1. They probably sleep in late on Saturday\n",
    "1. They probably run a bunch of random errands, since they couldn't during the week\n",
    "1. They should be home, at least during the very late hours, e.g. 1-4 AM\n",
    "\n",
    "#### On Weekdays\n",
    "1. People probably are at work during normal working hours\n",
    "1. They probably are at home in the early morning and during the late night\n",
    "1. They probably spend time commuting between work and home everyday"
   ]
  },
  {
   "cell_type": "code",
   "execution_count": 10,
   "metadata": {},
   "outputs": [
    {
     "name": "stdout",
     "output_type": "stream",
     "text": [
      "Examining person:  0\n"
     ]
    }
   ],
   "source": [
    "print(\"Examining person: \", 0)"
   ]
  },
  {
   "cell_type": "markdown",
   "metadata": {
    "collapsed": true
   },
   "source": [
    "Create a slice called `user1` that filters to only include dataset records where the `In` feature (user phone number) is equal to the first number on your unique list above:"
   ]
  },
  {
   "cell_type": "code",
   "execution_count": 50,
   "metadata": {},
   "outputs": [
    {
     "data": {
      "text/html": [
       "<div>\n",
       "<style>\n",
       "    .dataframe thead tr:only-child th {\n",
       "        text-align: right;\n",
       "    }\n",
       "\n",
       "    .dataframe thead th {\n",
       "        text-align: left;\n",
       "    }\n",
       "\n",
       "    .dataframe tbody tr th {\n",
       "        vertical-align: top;\n",
       "    }\n",
       "</style>\n",
       "<table border=\"1\" class=\"dataframe\">\n",
       "  <thead>\n",
       "    <tr style=\"text-align: right;\">\n",
       "      <th></th>\n",
       "      <th>In</th>\n",
       "      <th>Out</th>\n",
       "      <th>Direction</th>\n",
       "      <th>CallDate</th>\n",
       "      <th>CallTime</th>\n",
       "      <th>DOW</th>\n",
       "      <th>Duration</th>\n",
       "      <th>TowerID</th>\n",
       "      <th>TowerLat</th>\n",
       "      <th>TowerLon</th>\n",
       "    </tr>\n",
       "  </thead>\n",
       "  <tbody>\n",
       "    <tr>\n",
       "      <th>0</th>\n",
       "      <td>4638472273</td>\n",
       "      <td>2666307251</td>\n",
       "      <td>Incoming</td>\n",
       "      <td>2010-12-25</td>\n",
       "      <td>07:16:24.736813</td>\n",
       "      <td>Sat</td>\n",
       "      <td>0:02:41.741499</td>\n",
       "      <td>0db53dd3-eb9c-4344-abc5-c2d74ebc3eec</td>\n",
       "      <td>32.731611</td>\n",
       "      <td>-96.709417</td>\n",
       "    </tr>\n",
       "    <tr>\n",
       "      <th>1</th>\n",
       "      <td>4638472273</td>\n",
       "      <td>1755442610</td>\n",
       "      <td>Incoming</td>\n",
       "      <td>2010-12-25</td>\n",
       "      <td>21:18:30.053710</td>\n",
       "      <td>Sat</td>\n",
       "      <td>0:02:47.108750</td>\n",
       "      <td>aeaf8b43-8034-44fe-833d-31854a75acbf</td>\n",
       "      <td>32.731722</td>\n",
       "      <td>-96.709500</td>\n",
       "    </tr>\n",
       "    <tr>\n",
       "      <th>2</th>\n",
       "      <td>4638472273</td>\n",
       "      <td>5481755331</td>\n",
       "      <td>Incoming</td>\n",
       "      <td>2010-12-25</td>\n",
       "      <td>14:52:42.878016</td>\n",
       "      <td>Sat</td>\n",
       "      <td>0:04:35.356341</td>\n",
       "      <td>fadaa83f-6001-45fd-aa4a-17d6c6b7ec00</td>\n",
       "      <td>32.899944</td>\n",
       "      <td>-96.910389</td>\n",
       "    </tr>\n",
       "    <tr>\n",
       "      <th>3</th>\n",
       "      <td>4638472273</td>\n",
       "      <td>1755442610</td>\n",
       "      <td>Incoming</td>\n",
       "      <td>2010-12-25</td>\n",
       "      <td>16:02:09.001913</td>\n",
       "      <td>Sat</td>\n",
       "      <td>0:02:23.498499</td>\n",
       "      <td>fadaa83f-6001-45fd-aa4a-17d6c6b7ec00</td>\n",
       "      <td>32.899944</td>\n",
       "      <td>-96.910389</td>\n",
       "    </tr>\n",
       "    <tr>\n",
       "      <th>4</th>\n",
       "      <td>4638472273</td>\n",
       "      <td>2145623768</td>\n",
       "      <td>Incoming</td>\n",
       "      <td>2010-12-25</td>\n",
       "      <td>15:28:35.028554</td>\n",
       "      <td>Sat</td>\n",
       "      <td>0:03:54.692497</td>\n",
       "      <td>95d7920d-c3cd-4d20-a568-9a55800dc807</td>\n",
       "      <td>32.899944</td>\n",
       "      <td>-96.910389</td>\n",
       "    </tr>\n",
       "  </tbody>\n",
       "</table>\n",
       "</div>"
      ],
      "text/plain": [
       "           In         Out Direction   CallDate        CallTime  DOW  \\\n",
       "0  4638472273  2666307251  Incoming 2010-12-25 07:16:24.736813  Sat   \n",
       "1  4638472273  1755442610  Incoming 2010-12-25 21:18:30.053710  Sat   \n",
       "2  4638472273  5481755331  Incoming 2010-12-25 14:52:42.878016  Sat   \n",
       "3  4638472273  1755442610  Incoming 2010-12-25 16:02:09.001913  Sat   \n",
       "4  4638472273  2145623768  Incoming 2010-12-25 15:28:35.028554  Sat   \n",
       "\n",
       "         Duration                               TowerID   TowerLat   TowerLon  \n",
       "0  0:02:41.741499  0db53dd3-eb9c-4344-abc5-c2d74ebc3eec  32.731611 -96.709417  \n",
       "1  0:02:47.108750  aeaf8b43-8034-44fe-833d-31854a75acbf  32.731722 -96.709500  \n",
       "2  0:04:35.356341  fadaa83f-6001-45fd-aa4a-17d6c6b7ec00  32.899944 -96.910389  \n",
       "3  0:02:23.498499  fadaa83f-6001-45fd-aa4a-17d6c6b7ec00  32.899944 -96.910389  \n",
       "4  0:03:54.692497  95d7920d-c3cd-4d20-a568-9a55800dc807  32.899944 -96.910389  "
      ]
     },
     "execution_count": 50,
     "metadata": {},
     "output_type": "execute_result"
    }
   ],
   "source": [
    "user1 = df[df.In == unique_numbers[0]]\n",
    "user1.head()"
   ]
  },
  {
   "cell_type": "markdown",
   "metadata": {},
   "source": [
    "Alter your slice so that it includes only Weekday (Mon-Fri) values:"
   ]
  },
  {
   "cell_type": "code",
   "execution_count": 51,
   "metadata": {},
   "outputs": [
    {
     "data": {
      "text/html": [
       "<div>\n",
       "<style>\n",
       "    .dataframe thead tr:only-child th {\n",
       "        text-align: right;\n",
       "    }\n",
       "\n",
       "    .dataframe thead th {\n",
       "        text-align: left;\n",
       "    }\n",
       "\n",
       "    .dataframe tbody tr th {\n",
       "        vertical-align: top;\n",
       "    }\n",
       "</style>\n",
       "<table border=\"1\" class=\"dataframe\">\n",
       "  <thead>\n",
       "    <tr style=\"text-align: right;\">\n",
       "      <th></th>\n",
       "      <th>In</th>\n",
       "      <th>Out</th>\n",
       "      <th>Direction</th>\n",
       "      <th>CallDate</th>\n",
       "      <th>CallTime</th>\n",
       "      <th>DOW</th>\n",
       "      <th>Duration</th>\n",
       "      <th>TowerID</th>\n",
       "      <th>TowerLat</th>\n",
       "      <th>TowerLon</th>\n",
       "    </tr>\n",
       "  </thead>\n",
       "  <tbody>\n",
       "    <tr>\n",
       "      <th>161</th>\n",
       "      <td>4638472273</td>\n",
       "      <td>5912117253</td>\n",
       "      <td>Missed</td>\n",
       "      <td>2010-12-27</td>\n",
       "      <td>18:41:14.639828</td>\n",
       "      <td>Mon</td>\n",
       "      <td>0:00:20.304073</td>\n",
       "      <td>09756fb6-223f-43e9-9402-9b90c7048639</td>\n",
       "      <td>32.805667</td>\n",
       "      <td>-96.796667</td>\n",
       "    </tr>\n",
       "    <tr>\n",
       "      <th>194</th>\n",
       "      <td>4638472273</td>\n",
       "      <td>4217121115</td>\n",
       "      <td>Incoming</td>\n",
       "      <td>2010-12-28</td>\n",
       "      <td>21:36:14.190286</td>\n",
       "      <td>Tue</td>\n",
       "      <td>0:05:56.080785</td>\n",
       "      <td>bcec0121-164d-406c-8c04-d12870893992</td>\n",
       "      <td>32.731611</td>\n",
       "      <td>-96.709417</td>\n",
       "    </tr>\n",
       "    <tr>\n",
       "      <th>195</th>\n",
       "      <td>4638472273</td>\n",
       "      <td>6022767590</td>\n",
       "      <td>Incoming</td>\n",
       "      <td>2010-12-28</td>\n",
       "      <td>19:57:19.501140</td>\n",
       "      <td>Tue</td>\n",
       "      <td>0:02:38.219371</td>\n",
       "      <td>bcec0121-164d-406c-8c04-d12870893992</td>\n",
       "      <td>32.731611</td>\n",
       "      <td>-96.709417</td>\n",
       "    </tr>\n",
       "    <tr>\n",
       "      <th>196</th>\n",
       "      <td>4638472273</td>\n",
       "      <td>5621270003</td>\n",
       "      <td>Incoming</td>\n",
       "      <td>2010-12-28</td>\n",
       "      <td>17:10:15.465881</td>\n",
       "      <td>Tue</td>\n",
       "      <td>0:01:56.250335</td>\n",
       "      <td>78512965-e30b-4734-ae92-47b910fe3d7f</td>\n",
       "      <td>32.899944</td>\n",
       "      <td>-96.910389</td>\n",
       "    </tr>\n",
       "    <tr>\n",
       "      <th>197</th>\n",
       "      <td>4638472273</td>\n",
       "      <td>5481755331</td>\n",
       "      <td>Incoming</td>\n",
       "      <td>2010-12-28</td>\n",
       "      <td>16:20:11.532130</td>\n",
       "      <td>Tue</td>\n",
       "      <td>0:03:56.069765</td>\n",
       "      <td>95d7920d-c3cd-4d20-a568-9a55800dc807</td>\n",
       "      <td>32.899944</td>\n",
       "      <td>-96.910389</td>\n",
       "    </tr>\n",
       "  </tbody>\n",
       "</table>\n",
       "</div>"
      ],
      "text/plain": [
       "             In         Out Direction   CallDate        CallTime  DOW  \\\n",
       "161  4638472273  5912117253    Missed 2010-12-27 18:41:14.639828  Mon   \n",
       "194  4638472273  4217121115  Incoming 2010-12-28 21:36:14.190286  Tue   \n",
       "195  4638472273  6022767590  Incoming 2010-12-28 19:57:19.501140  Tue   \n",
       "196  4638472273  5621270003  Incoming 2010-12-28 17:10:15.465881  Tue   \n",
       "197  4638472273  5481755331  Incoming 2010-12-28 16:20:11.532130  Tue   \n",
       "\n",
       "           Duration                               TowerID   TowerLat  \\\n",
       "161  0:00:20.304073  09756fb6-223f-43e9-9402-9b90c7048639  32.805667   \n",
       "194  0:05:56.080785  bcec0121-164d-406c-8c04-d12870893992  32.731611   \n",
       "195  0:02:38.219371  bcec0121-164d-406c-8c04-d12870893992  32.731611   \n",
       "196  0:01:56.250335  78512965-e30b-4734-ae92-47b910fe3d7f  32.899944   \n",
       "197  0:03:56.069765  95d7920d-c3cd-4d20-a568-9a55800dc807  32.899944   \n",
       "\n",
       "      TowerLon  \n",
       "161 -96.796667  \n",
       "194 -96.709417  \n",
       "195 -96.709417  \n",
       "196 -96.910389  \n",
       "197 -96.910389  "
      ]
     },
     "execution_count": 51,
     "metadata": {},
     "output_type": "execute_result"
    }
   ],
   "source": [
    "user1 = user1[(user1.DOW != 'Sat') & (user1.DOW !='Sun') ]\n",
    "user1.head()"
   ]
  },
  {
   "cell_type": "markdown",
   "metadata": {},
   "source": [
    "The idea is that the call was placed before 5pm. From Midnight-730a, the user is probably sleeping and won't call / wake up to take a call. There should be a brief time in the morning during their commute to work, then they'll spend the entire day at work. So the assumption is that most of the time is spent either at work, or in 2nd, at home:"
   ]
  },
  {
   "cell_type": "code",
   "execution_count": 52,
   "metadata": {},
   "outputs": [
    {
     "data": {
      "text/html": [
       "<div>\n",
       "<style>\n",
       "    .dataframe thead tr:only-child th {\n",
       "        text-align: right;\n",
       "    }\n",
       "\n",
       "    .dataframe thead th {\n",
       "        text-align: left;\n",
       "    }\n",
       "\n",
       "    .dataframe tbody tr th {\n",
       "        vertical-align: top;\n",
       "    }\n",
       "</style>\n",
       "<table border=\"1\" class=\"dataframe\">\n",
       "  <thead>\n",
       "    <tr style=\"text-align: right;\">\n",
       "      <th></th>\n",
       "      <th>In</th>\n",
       "      <th>Out</th>\n",
       "      <th>Direction</th>\n",
       "      <th>CallDate</th>\n",
       "      <th>CallTime</th>\n",
       "      <th>DOW</th>\n",
       "      <th>Duration</th>\n",
       "      <th>TowerID</th>\n",
       "      <th>TowerLat</th>\n",
       "      <th>TowerLon</th>\n",
       "    </tr>\n",
       "  </thead>\n",
       "  <tbody>\n",
       "    <tr>\n",
       "      <th>197</th>\n",
       "      <td>4638472273</td>\n",
       "      <td>5481755331</td>\n",
       "      <td>Incoming</td>\n",
       "      <td>2010-12-28</td>\n",
       "      <td>16:20:11.532130</td>\n",
       "      <td>Tue</td>\n",
       "      <td>0:03:56.069765</td>\n",
       "      <td>95d7920d-c3cd-4d20-a568-9a55800dc807</td>\n",
       "      <td>32.899944</td>\n",
       "      <td>-96.910389</td>\n",
       "    </tr>\n",
       "    <tr>\n",
       "      <th>200</th>\n",
       "      <td>4638472273</td>\n",
       "      <td>8180005891</td>\n",
       "      <td>Incoming</td>\n",
       "      <td>2010-12-28</td>\n",
       "      <td>15:27:51.105337</td>\n",
       "      <td>Tue</td>\n",
       "      <td>0:03:30.047757</td>\n",
       "      <td>95c91e8b-6ff1-4893-9df3-b0342636bd25</td>\n",
       "      <td>32.899944</td>\n",
       "      <td>-96.910389</td>\n",
       "    </tr>\n",
       "    <tr>\n",
       "      <th>248</th>\n",
       "      <td>4638472273</td>\n",
       "      <td>8180005891</td>\n",
       "      <td>Missed</td>\n",
       "      <td>2010-12-29</td>\n",
       "      <td>09:13:35.198987</td>\n",
       "      <td>Wed</td>\n",
       "      <td>0:02:10.574446</td>\n",
       "      <td>95c91e8b-6ff1-4893-9df3-b0342636bd25</td>\n",
       "      <td>32.899944</td>\n",
       "      <td>-96.910389</td>\n",
       "    </tr>\n",
       "    <tr>\n",
       "      <th>249</th>\n",
       "      <td>4638472273</td>\n",
       "      <td>2145623768</td>\n",
       "      <td>Incoming</td>\n",
       "      <td>2010-12-29</td>\n",
       "      <td>06:02:11.319738</td>\n",
       "      <td>Wed</td>\n",
       "      <td>0:04:34.436752</td>\n",
       "      <td>9baa92e7-e990-4e9e-8c0a-4c17cb4ecc7c</td>\n",
       "      <td>32.731611</td>\n",
       "      <td>-96.709417</td>\n",
       "    </tr>\n",
       "    <tr>\n",
       "      <th>250</th>\n",
       "      <td>4638472273</td>\n",
       "      <td>8068555700</td>\n",
       "      <td>Incoming</td>\n",
       "      <td>2010-12-29</td>\n",
       "      <td>13:54:14.724722</td>\n",
       "      <td>Wed</td>\n",
       "      <td>0:03:31.297111</td>\n",
       "      <td>fadaa83f-6001-45fd-aa4a-17d6c6b7ec00</td>\n",
       "      <td>32.899944</td>\n",
       "      <td>-96.910389</td>\n",
       "    </tr>\n",
       "  </tbody>\n",
       "</table>\n",
       "</div>"
      ],
      "text/plain": [
       "             In         Out Direction   CallDate        CallTime  DOW  \\\n",
       "197  4638472273  5481755331  Incoming 2010-12-28 16:20:11.532130  Tue   \n",
       "200  4638472273  8180005891  Incoming 2010-12-28 15:27:51.105337  Tue   \n",
       "248  4638472273  8180005891    Missed 2010-12-29 09:13:35.198987  Wed   \n",
       "249  4638472273  2145623768  Incoming 2010-12-29 06:02:11.319738  Wed   \n",
       "250  4638472273  8068555700  Incoming 2010-12-29 13:54:14.724722  Wed   \n",
       "\n",
       "           Duration                               TowerID   TowerLat  \\\n",
       "197  0:03:56.069765  95d7920d-c3cd-4d20-a568-9a55800dc807  32.899944   \n",
       "200  0:03:30.047757  95c91e8b-6ff1-4893-9df3-b0342636bd25  32.899944   \n",
       "248  0:02:10.574446  95c91e8b-6ff1-4893-9df3-b0342636bd25  32.899944   \n",
       "249  0:04:34.436752  9baa92e7-e990-4e9e-8c0a-4c17cb4ecc7c  32.731611   \n",
       "250  0:03:31.297111  fadaa83f-6001-45fd-aa4a-17d6c6b7ec00  32.899944   \n",
       "\n",
       "      TowerLon  \n",
       "197 -96.910389  \n",
       "200 -96.910389  \n",
       "248 -96.910389  \n",
       "249 -96.709417  \n",
       "250 -96.910389  "
      ]
     },
     "execution_count": 52,
     "metadata": {},
     "output_type": "execute_result"
    }
   ],
   "source": [
    "user1 = user1[(user1.CallTime < \"17:00:00\")]\n",
    "user1.head()"
   ]
  },
  {
   "cell_type": "markdown",
   "metadata": {},
   "source": [
    "Plot the Cell Towers the user connected to"
   ]
  },
  {
   "cell_type": "code",
   "execution_count": 45,
   "metadata": {},
   "outputs": [
    {
     "data": {
      "text/plain": [
       "Text(0.5,1,'Weekday calls(<5pm)')"
      ]
     },
     "execution_count": 45,
     "metadata": {},
     "output_type": "execute_result"
    }
   ],
   "source": [
    "fig = plt.figure()\n",
    "ax = fig.add_subplot(111)\n",
    "ax.scatter(user1.TowerLat,user1.TowerLon,c='g',marker='o',alpha = 0.2)\n",
    "ax.set_title(\"Weekday calls(<5pm)\")\n"
   ]
  },
  {
   "cell_type": "code",
   "execution_count": 40,
   "metadata": {},
   "outputs": [],
   "source": [
    "def doKMeans(data, num_clusters=0):\n",
    "    kmeans = KMeans(n_clusters = num_clusters)\n",
    "    model = kmeans.fit(data)\n",
    "    return model"
   ]
  },
  {
   "cell_type": "markdown",
   "metadata": {},
   "source": [
    "Let's tun K-Means with `K=3` or `K=4`. There really should only be a two areas of concentration. If you notice multiple areas that are \"hot\" (multiple areas the user spends a lot of time at that are FAR apart from one another), then increase K=5, with the goal being that all centroids except two will sweep up the annoying outliers and not-home, not-work travel occasions. the other two will zero in on the user's approximate home location and work locations. Or rather the location of the cell tower closest to them....."
   ]
  },
  {
   "cell_type": "code",
   "execution_count": 53,
   "metadata": {},
   "outputs": [],
   "source": [
    "model = doKMeans(user1.loc[:,['TowerLat','TowerLon']], 3)"
   ]
  },
  {
   "cell_type": "markdown",
   "metadata": {},
   "source": [
    "Print out the mean `CallTime` value for the samples belonging to the cluster with the LEAST samples attached to it. If our logic is correct, the cluster with the MOST samples will be work. The cluster with the 2nd most samples will be home. And the `K=3` cluster with the least samples should be somewhere in between the two. What time, on average, is the user in between home and work, between the midnight and 5pm?"
   ]
  },
  {
   "cell_type": "code",
   "execution_count": 54,
   "metadata": {},
   "outputs": [
    {
     "name": "stdout",
     "output_type": "stream",
     "text": [
      "\n",
      "  Cluster With Fewest Samples:  2\n",
      "    Its Waypoint Time:  0 days 07:49:53.168115\n"
     ]
    }
   ],
   "source": [
    "midWayClusterIndices = clusterWithFewestSamples(model)\n",
    "midWaySamples = user1[midWayClusterIndices]\n",
    "print(\"    Its Waypoint Time: \", midWaySamples.CallTime.mean())"
   ]
  },
  {
   "cell_type": "code",
   "execution_count": 47,
   "metadata": {},
   "outputs": [
    {
     "name": "stdout",
     "output_type": "stream",
     "text": [
      "[[ 32.69557708 -96.93522725]\n",
      " [ 32.87096795 -96.92355104]\n",
      " [ 32.7674931  -96.91638645]\n",
      " [ 32.72173631 -96.91649315]]\n",
      "[[ 32.86562866 -96.86563953]\n",
      " [ 32.780278   -96.893333  ]\n",
      " [ 32.81309497 -96.88911725]\n",
      " [ 32.74273613 -96.89913925]]\n",
      "[[ 32.85371225 -96.8472893 ]\n",
      " [ 32.84684682 -96.83511392]\n",
      " [ 32.861222   -96.852389  ]\n",
      " [ 32.865833   -96.844722  ]]\n",
      "[[ 32.875      -96.730278  ]\n",
      " [ 32.92280779 -96.75721678]\n",
      " [ 32.909167   -96.741944  ]\n",
      " [ 32.91727969 -96.76024108]]\n",
      "[[ 32.81198486 -96.87034706]\n",
      " [ 32.770833   -96.685556  ]\n",
      " [ 32.79885124 -96.7988131 ]\n",
      " [ 32.8064785  -96.83238272]]\n",
      "[[ 32.75365378 -96.74243422]\n",
      " [ 32.70494423 -96.84066398]\n",
      " [ 32.7375     -96.796111  ]\n",
      " [ 32.739722   -96.759167  ]]\n",
      "[[ 32.71410598 -96.75520357]\n",
      " [ 32.703056   -96.604444  ]\n",
      " [ 32.72089181 -96.83278954]\n",
      " [ 32.72178311 -96.8066212 ]]\n",
      "[[ 32.77396536 -96.81270407]\n",
      " [ 32.72165711 -96.89201378]\n",
      " [ 32.741889   -96.857611  ]\n",
      " [ 32.717667   -96.875194  ]]\n",
      "[[ 32.95821508 -96.80231738]\n",
      " [ 32.77240328 -96.77896656]\n",
      " [ 32.98580109 -96.802574  ]\n",
      " [ 32.91913182 -96.8049514 ]]\n"
     ]
    }
   ],
   "source": [
    "for i in range(1,len(unique_numbers)):\n",
    "    user1 = df[df.In == unique_numbers[i]]\n",
    "    user1 = user1[(user1.DOW != 'Sat') & (user1.DOW !='Sun') ]\n",
    "    user1 = user1[(user1.CallTime < \"17:00:00\")]\n",
    "    model = doKMeans(user1.loc[:,['TowerLat','TowerLon']], 4)\n",
    "    print(model.cluster_centers_)\n",
    "    ax.scatter(model.cluster_centers_[:,1], model.cluster_centers_[:,0], s=169, c='r', marker='x', alpha=0.8, linewidths=2)\n",
    "\n",
    "plt.show()\n",
    "    "
   ]
  },
  {
   "cell_type": "markdown",
   "metadata": {},
   "source": [
    "Let's visualize the results! First draw the X's for the clusters:"
   ]
  },
  {
   "cell_type": "code",
   "execution_count": 43,
   "metadata": {},
   "outputs": [
    {
     "data": {
      "image/png": "[encoded data removed]",
      "text/plain": [
       "<matplotlib.figure.Figure at 0x115bd7518>"
      ]
     },
     "metadata": {},
     "output_type": "display_data"
    }
   ],
   "source": [
    "ax.scatter(model.cluster_centers_[:,1], model.cluster_centers_[:,0], s=169, c='r', marker='x', alpha=0.8, linewidths=2)\n",
    "ax.set_title('Weekday Calls Centroids')\n"
   ]
  },
  {
   "cell_type": "code",
   "execution_count": null,
   "metadata": {
    "collapsed": true
   },
   "outputs": [],
   "source": []
  }
 ],
 "metadata": {
  "anaconda-cloud": {},
  "kernelspec": {
   "display_name": "Python 3",
   "language": "python",
   "name": "python3"
  },
  "language_info": {
   "codemirror_mode": {
    "name": "ipython",
    "version": 3
   },
   "file_extension": ".py",
   "mimetype": "text/x-python",
   "name": "python",
   "nbconvert_exporter": "python",
   "pygments_lexer": "ipython3",
   "version": "3.6.2"
  },
  "toc": {
   "colors": {
    "hover_highlight": "#DAA520",
    "running_highlight": "#FF0000",
    "selected_highlight": "#FFD700"
   },
   "moveMenuLeft": true,
   "nav_menu": {
    "height": "58px",
    "width": "252px"
   },
   "navigate_menu": true,
   "number_sections": true,
   "sideBar": true,
   "threshold": 4,
   "toc_cell": false,
   "toc_section_display": "block",
   "toc_window_display": false,
   "widenNotebook": false
  }
 },
 "nbformat": 4,
 "nbformat_minor": 2
}
